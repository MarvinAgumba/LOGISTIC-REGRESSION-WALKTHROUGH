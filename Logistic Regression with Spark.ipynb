{
 "cells": [
  {
   "cell_type": "markdown",
   "id": "67e4c520-5269-4651-b802-cbc74a0c5ce1",
   "metadata": {},
   "source": [
    "# Machine Learning with Spark\n",
    "\n",
    "## Forest Fires Dataset"
   ]
  },
  {
   "cell_type": "code",
   "execution_count": 1,
   "id": "f78ab3b2-dac7-447a-9d7a-cfe096ab43c3",
   "metadata": {},
   "outputs": [],
   "source": [
    "#Loading dataset\n",
    "# Create a SparkSession to connect to Spark local cluster\n",
    "from pyspark.sql import SparkSession\n",
    "spark = SparkSession.builder.master('local').getOrCreate()"
   ]
  },
  {
   "cell_type": "code",
   "execution_count": 2,
   "id": "3c41ee79-fccb-485c-8d93-84ca61dbfe78",
   "metadata": {},
   "outputs": [
    {
     "name": "stdout",
     "output_type": "stream",
     "text": [
      "+---+---+-----+---+----+----+-----+---+----+---+----+----+----+\n",
      "|  X|  Y|month|day|FFMC| DMC|   DC|ISI|temp| RH|wind|rain|area|\n",
      "+---+---+-----+---+----+----+-----+---+----+---+----+----+----+\n",
      "|  7|  5|  mar|fri|86.2|26.2| 94.3|5.1| 8.2| 51| 6.7| 0.0| 0.0|\n",
      "|  7|  4|  oct|tue|90.6|35.4|669.1|6.7|18.0| 33| 0.9| 0.0| 0.0|\n",
      "|  7|  4|  oct|sat|90.6|43.7|686.9|6.7|14.6| 33| 1.3| 0.0| 0.0|\n",
      "|  8|  6|  mar|fri|91.7|33.3| 77.5|9.0| 8.3| 97| 4.0| 0.2| 0.0|\n",
      "|  8|  6|  mar|sun|89.3|51.3|102.2|9.6|11.4| 99| 1.8| 0.0| 0.0|\n",
      "+---+---+-----+---+----+----+-----+---+----+---+----+----+----+\n",
      "only showing top 5 rows\n",
      "\n"
     ]
    }
   ],
   "source": [
    "# Read in local CSV file to a Spark SQL DataFrame\n",
    "fire_df = spark.read.csv('forestfires.csv', header='true', inferSchema='true')\n",
    "fire_df.show(5)"
   ]
  },
  {
   "cell_type": "markdown",
   "id": "5de905bb-bf58-4117-9b3d-4b7c2d15a154",
   "metadata": {},
   "source": [
    "There are three main concepts found within the ML library:\r\n",
    "\r\n",
    "`Transformer`: An algorithm that transforms one PySpark DataFrame into another DataFrame. Just like in scikit-learn, a Transformer is a class that implements the `transform()` method. Transformers include both feature transformers and `Model`s.\r\n",
    "\r\n",
    "`Estimator`: An algorithm that can be fit onto a PySpark DataFrame that can then be used as a Transformer. Just like in scikit-learn, an Estimator is a class that implements the `fit()` method.\r\n",
    "\r\n",
    "`Pipeline`: A pipeline very similar to a scikit-learn pipeline that chains together different actions. Typically Transformers and Estimators are components of a Pipeline."
   ]
  },
  {
   "cell_type": "code",
   "execution_count": 3,
   "id": "7e42e6a4-9489-4ba9-8279-2ac7d24caed2",
   "metadata": {},
   "outputs": [],
   "source": [
    "from pyspark.ml.regression import RandomForestRegressor\n",
    "from pyspark.ml.feature import StringIndexer, OneHotEncoder, VectorAssembler"
   ]
  },
  {
   "cell_type": "code",
   "execution_count": 4,
   "id": "296d1a5e-1f97-43f8-ad06-4548e145a6ab",
   "metadata": {},
   "outputs": [
    {
     "name": "stdout",
     "output_type": "stream",
     "text": [
      "root\n",
      " |-- X: integer (nullable = true)\n",
      " |-- Y: integer (nullable = true)\n",
      " |-- month: string (nullable = true)\n",
      " |-- day: string (nullable = true)\n",
      " |-- FFMC: double (nullable = true)\n",
      " |-- DMC: double (nullable = true)\n",
      " |-- DC: double (nullable = true)\n",
      " |-- ISI: double (nullable = true)\n",
      " |-- temp: double (nullable = true)\n",
      " |-- RH: integer (nullable = true)\n",
      " |-- wind: double (nullable = true)\n",
      " |-- rain: double (nullable = true)\n",
      " |-- area: double (nullable = true)\n",
      "\n"
     ]
    }
   ],
   "source": [
    "#Encoding Categorical Data\n",
    "fire_df.printSchema()"
   ]
  },
  {
   "cell_type": "markdown",
   "id": "46f9a4fd-2d17-462b-aa17-12f854a503ea",
   "metadata": {},
   "source": [
    "Looking at our data, one can see that all the categories are numeric except for `month` and `day`. We saw some correlation between the month and area burned in a fire during our previous EDA process, so we will include that in our model. The day of the week, however, is highly unlikely to have any effect on fire, so we will drop it from the DataFrame."
   ]
  },
  {
   "cell_type": "code",
   "execution_count": 5,
   "id": "a74a56f4-f9b7-46d2-ad7d-0792e5a7f6d0",
   "metadata": {},
   "outputs": [
    {
     "name": "stdout",
     "output_type": "stream",
     "text": [
      "+---+---+-----+----+----+-----+---+----+---+----+----+----+\n",
      "|  X|  Y|month|FFMC| DMC|   DC|ISI|temp| RH|wind|rain|area|\n",
      "+---+---+-----+----+----+-----+---+----+---+----+----+----+\n",
      "|  7|  5|  mar|86.2|26.2| 94.3|5.1| 8.2| 51| 6.7| 0.0| 0.0|\n",
      "|  7|  4|  oct|90.6|35.4|669.1|6.7|18.0| 33| 0.9| 0.0| 0.0|\n",
      "|  7|  4|  oct|90.6|43.7|686.9|6.7|14.6| 33| 1.3| 0.0| 0.0|\n",
      "|  8|  6|  mar|91.7|33.3| 77.5|9.0| 8.3| 97| 4.0| 0.2| 0.0|\n",
      "|  8|  6|  mar|89.3|51.3|102.2|9.6|11.4| 99| 1.8| 0.0| 0.0|\n",
      "+---+---+-----+----+----+-----+---+----+---+----+----+----+\n",
      "only showing top 5 rows\n",
      "\n"
     ]
    }
   ],
   "source": [
    "df_without_day = fire_df.drop('day')\n",
    "df_without_day.show(5)"
   ]
  },
  {
   "cell_type": "code",
   "execution_count": 6,
   "id": "958dc16d-ffbc-466e-ba0b-8ffc6976c0cb",
   "metadata": {},
   "outputs": [
    {
     "name": "stdout",
     "output_type": "stream",
     "text": [
      "root\n",
      " |-- X: integer (nullable = true)\n",
      " |-- Y: integer (nullable = true)\n",
      " |-- month: string (nullable = true)\n",
      " |-- FFMC: double (nullable = true)\n",
      " |-- DMC: double (nullable = true)\n",
      " |-- DC: double (nullable = true)\n",
      " |-- ISI: double (nullable = true)\n",
      " |-- temp: double (nullable = true)\n",
      " |-- RH: integer (nullable = true)\n",
      " |-- wind: double (nullable = true)\n",
      " |-- rain: double (nullable = true)\n",
      " |-- area: double (nullable = true)\n",
      "\n"
     ]
    }
   ],
   "source": [
    "df_without_day.printSchema()"
   ]
  },
  {
   "cell_type": "markdown",
   "id": "42ea08db-d16f-4a52-8048-9a1b4acba408",
   "metadata": {},
   "source": [
    "In order for us to run our model, we need to turn the months variable into a dummy variable. In MLlib this is a 2-step process that first requires turning the categorical variable into a numerical index (`StringIndexer`). Only after the variable is an integer can PySpark create dummy variable columns related to each category (`OneHotEncoder`).\n",
    "\n",
    "Your key parameters when using these transformers are:\n",
    "\n",
    "* `inputCol` (the column you want to change), and\n",
    "* `outputCol` (where you will store the changed column)\n",
    "\n",
    "Here it is in action:"
   ]
  },
  {
   "cell_type": "code",
   "execution_count": 7,
   "id": "1346b1d7-7a49-4b17-8b1f-e0da64be2417",
   "metadata": {},
   "outputs": [
    {
     "name": "stdout",
     "output_type": "stream",
     "text": [
      "+---+---+-----+----+----+-----+---+----+---+----+----+----+---------+\n",
      "|  X|  Y|month|FFMC| DMC|   DC|ISI|temp| RH|wind|rain|area|month_num|\n",
      "+---+---+-----+----+----+-----+---+----+---+----+----+----+---------+\n",
      "|  7|  5|  mar|86.2|26.2| 94.3|5.1| 8.2| 51| 6.7| 0.0| 0.0|      2.0|\n",
      "|  7|  4|  oct|90.6|35.4|669.1|6.7|18.0| 33| 0.9| 0.0| 0.0|      6.0|\n",
      "|  7|  4|  oct|90.6|43.7|686.9|6.7|14.6| 33| 1.3| 0.0| 0.0|      6.0|\n",
      "|  8|  6|  mar|91.7|33.3| 77.5|9.0| 8.3| 97| 4.0| 0.2| 0.0|      2.0|\n",
      "|  8|  6|  mar|89.3|51.3|102.2|9.6|11.4| 99| 1.8| 0.0| 0.0|      2.0|\n",
      "+---+---+-----+----+----+-----+---+----+---+----+----+----+---------+\n",
      "only showing top 5 rows\n",
      "\n"
     ]
    }
   ],
   "source": [
    "# Create a StringIndexer (Estimator) that takes month as the input column\n",
    "# and outputs month_num\n",
    "si_untrained = StringIndexer(inputCol='month', outputCol='month_num', handleInvalid='keep')\n",
    "\n",
    "# Create a trained Model (Transformer) by fitting the StringIndexer on the data\n",
    "si_trained = si_untrained.fit(df_without_day)\n",
    "\n",
    "# Create a new DataFrame using the trained Model (Transformer) and data\n",
    "df_month_num = si_trained.transform(df_without_day)\n",
    "\n",
    "df_month_num.show(5)"
   ]
  },
  {
   "cell_type": "code",
   "execution_count": 8,
   "id": "562803a0-d5a6-47a0-be6f-1238e066a64a",
   "metadata": {},
   "outputs": [
    {
     "name": "stdout",
     "output_type": "stream",
     "text": [
      "+---------+\n",
      "|month_num|\n",
      "+---------+\n",
      "|      0.0|\n",
      "|      1.0|\n",
      "|      2.0|\n",
      "|      3.0|\n",
      "|      4.0|\n",
      "|      5.0|\n",
      "|      6.0|\n",
      "|      7.0|\n",
      "|      8.0|\n",
      "|      9.0|\n",
      "|     10.0|\n",
      "|     11.0|\n",
      "+---------+\n",
      "\n"
     ]
    }
   ],
   "source": [
    "# Double-checking that we have 12 different numbers as expected\n",
    "df_month_num.select('month_num').distinct().orderBy('month_num').show()"
   ]
  },
  {
   "cell_type": "markdown",
   "id": "51ddc088-d79a-4acf-b789-26606acb32a0",
   "metadata": {},
   "source": [
    "As you can see, we have created a new column called `month_num` that represents the month by a number.\n",
    "\n",
    "Note the small, but critical distinction between `sklearn`'s implementation of a transformer and PySpark's implementation. `sklearn` is more object oriented and Spark is more functional oriented.\n",
    "\n",
    "Specifically, calling `fit()` on a Spark transformer does not cause that transformer to become trained, but rather returns a trained transformer."
   ]
  },
  {
   "cell_type": "code",
   "execution_count": 9,
   "id": "bc2bdb0e-f2b6-41cc-9e66-ade3b3ab46da",
   "metadata": {},
   "outputs": [
    {
     "data": {
      "text/plain": [
       "pyspark.ml.feature.StringIndexer"
      ]
     },
     "execution_count": 9,
     "metadata": {},
     "output_type": "execute_result"
    }
   ],
   "source": [
    "# this is an Estimator, which has a fit() method\n",
    "type(si_untrained)"
   ]
  },
  {
   "cell_type": "code",
   "execution_count": 10,
   "id": "d71401be-1456-4344-94c2-b063720c254c",
   "metadata": {},
   "outputs": [
    {
     "data": {
      "text/plain": [
       "pyspark.ml.feature.StringIndexerModel"
      ]
     },
     "execution_count": 10,
     "metadata": {},
     "output_type": "execute_result"
    }
   ],
   "source": [
    "# this is a Model (Transformer), the result of the fit() method\n",
    "type(si_trained)"
   ]
  },
  {
   "cell_type": "markdown",
   "id": "ca94c840-8ebd-4dfa-91c0-89cb2b6460f9",
   "metadata": {},
   "source": [
    "Only the trained Model has fitted attributes. In this case, the `StringIndexerModel` has a `labels` attribute, which explain the relationship between `month_num` and `month`:"
   ]
  },
  {
   "cell_type": "code",
   "execution_count": 11,
   "id": "8714a77f-87e0-4322-b613-04c09919d009",
   "metadata": {},
   "outputs": [
    {
     "data": {
      "text/plain": [
       "['aug',\n",
       " 'sep',\n",
       " 'mar',\n",
       " 'jul',\n",
       " 'feb',\n",
       " 'jun',\n",
       " 'oct',\n",
       " 'apr',\n",
       " 'dec',\n",
       " 'jan',\n",
       " 'may',\n",
       " 'nov']"
      ]
     },
     "execution_count": 11,
     "metadata": {},
     "output_type": "execute_result"
    }
   ],
   "source": [
    "si_trained.labels"
   ]
  },
  {
   "cell_type": "code",
   "execution_count": 12,
   "id": "17c6be3d-5cff-46f6-962c-e3649e65b8b5",
   "metadata": {},
   "outputs": [
    {
     "name": "stdout",
     "output_type": "stream",
     "text": [
      "<class 'AttributeError'>\n",
      "'StringIndexer' object has no attribute 'labels'\n"
     ]
    }
   ],
   "source": [
    "try:\n",
    "    si_untrained.labels\n",
    "except Exception as e:\n",
    "    print(type(e))\n",
    "    print(e)"
   ]
  },
  {
   "cell_type": "markdown",
   "id": "6df610e2-9a40-44ee-ad6a-fb1180b7320a",
   "metadata": {},
   "source": [
    "Now that we have `month_num`, we can use Spark's version of `OneHotEncoder()`. This time rather than creating an intermediate variable for the model, we'll chain together the `fit()` and `tranform()` method calls."
   ]
  },
  {
   "cell_type": "code",
   "execution_count": 13,
   "id": "7bfafa9f-123b-4609-9bf8-a41df23507d0",
   "metadata": {},
   "outputs": [
    {
     "name": "stdout",
     "output_type": "stream",
     "text": [
      "+---+---+-----+----+----+-----+---+----+---+----+----+----+---------+--------------+\n",
      "|  X|  Y|month|FFMC| DMC|   DC|ISI|temp| RH|wind|rain|area|month_num|     month_vec|\n",
      "+---+---+-----+----+----+-----+---+----+---+----+----+----+---------+--------------+\n",
      "|  7|  5|  mar|86.2|26.2| 94.3|5.1| 8.2| 51| 6.7| 0.0| 0.0|      2.0|(12,[2],[1.0])|\n",
      "|  7|  4|  oct|90.6|35.4|669.1|6.7|18.0| 33| 0.9| 0.0| 0.0|      6.0|(12,[6],[1.0])|\n",
      "|  7|  4|  oct|90.6|43.7|686.9|6.7|14.6| 33| 1.3| 0.0| 0.0|      6.0|(12,[6],[1.0])|\n",
      "|  8|  6|  mar|91.7|33.3| 77.5|9.0| 8.3| 97| 4.0| 0.2| 0.0|      2.0|(12,[2],[1.0])|\n",
      "|  8|  6|  mar|89.3|51.3|102.2|9.6|11.4| 99| 1.8| 0.0| 0.0|      2.0|(12,[2],[1.0])|\n",
      "+---+---+-----+----+----+-----+---+----+---+----+----+----+---------+--------------+\n",
      "only showing top 5 rows\n",
      "\n"
     ]
    }
   ],
   "source": [
    "# Instantiating, fitting, and transforming month_num with OneHotEncoder\n",
    "ohe = OneHotEncoder(inputCols=['month_num'], outputCols=['month_vec'], dropLast=True)\n",
    "df_month_vec = ohe.fit(df_month_num).transform(df_month_num)\n",
    "df_month_vec.show(5)"
   ]
  },
  {
   "cell_type": "markdown",
   "id": "2db5fec1-3266-4500-abaa-b1c97f90467f",
   "metadata": {},
   "source": [
    "Great, we now have a one-hot encoded sparse vector in the `month_vec` column! Because Spark is optimized for big data, sparse vectors are used rather than entirely new columns for dummy variables because it is more space efficient. You can see in this first row of the DataFrame:\n",
    "\n",
    "```\n",
    "(11,[2],[1.0])\n",
    "```\n",
    "\n",
    "This indicates that:\n",
    "\n",
    "* We have a sparse vector of size `11` (because there are 12 unique month values, and we set `dropLast=True` when we instantiated the `OneHotEncoder`)\n",
    "* This particular data point is the `2`-th index of our month labels (`'mar'`, based off the labels in the `StringIndexerModel`)\n",
    "\n",
    "#### One Sparse Vector\n",
    "\n",
    "The final requirement for all machine learning models in PySpark is to put all of the features of your model into one sparse vector. This is once again for efficiency's sake. Here, we are doing that with the `VectorAssembler()` estimator."
   ]
  },
  {
   "cell_type": "code",
   "execution_count": 14,
   "id": "79a75afc-f1a2-414e-827e-5845396936e0",
   "metadata": {},
   "outputs": [
    {
     "data": {
      "text/plain": [
       "['X',\n",
       " 'Y',\n",
       " 'FFMC',\n",
       " 'DMC',\n",
       " 'DC',\n",
       " 'ISI',\n",
       " 'temp',\n",
       " 'RH',\n",
       " 'wind',\n",
       " 'rain',\n",
       " 'month_vec']"
      ]
     },
     "execution_count": 14,
     "metadata": {},
     "output_type": "execute_result"
    }
   ],
   "source": [
    "# Set name of target\n",
    "target = \"area\"\n",
    "\n",
    "# Get list of features, excluding area (the target) as well\n",
    "# as month and month_num (since we are using month_vec)\n",
    "features = df_month_vec.drop(target, \"month\", \"month_num\").columns\n",
    "features"
   ]
  },
  {
   "cell_type": "code",
   "execution_count": 15,
   "id": "177791e4-4310-4337-981b-6c72d9ae0c11",
   "metadata": {},
   "outputs": [
    {
     "name": "stdout",
     "output_type": "stream",
     "text": [
      "+---+---+-----+----+----+-----+---+----+---+----+----+----+---------+--------------+--------------------+\n",
      "|  X|  Y|month|FFMC| DMC|   DC|ISI|temp| RH|wind|rain|area|month_num|     month_vec|            features|\n",
      "+---+---+-----+----+----+-----+---+----+---+----+----+----+---------+--------------+--------------------+\n",
      "|  7|  5|  mar|86.2|26.2| 94.3|5.1| 8.2| 51| 6.7| 0.0| 0.0|      2.0|(12,[2],[1.0])|(22,[0,1,2,3,4,5,...|\n",
      "|  7|  4|  oct|90.6|35.4|669.1|6.7|18.0| 33| 0.9| 0.0| 0.0|      6.0|(12,[6],[1.0])|(22,[0,1,2,3,4,5,...|\n",
      "|  7|  4|  oct|90.6|43.7|686.9|6.7|14.6| 33| 1.3| 0.0| 0.0|      6.0|(12,[6],[1.0])|(22,[0,1,2,3,4,5,...|\n",
      "|  8|  6|  mar|91.7|33.3| 77.5|9.0| 8.3| 97| 4.0| 0.2| 0.0|      2.0|(12,[2],[1.0])|(22,[0,1,2,3,4,5,...|\n",
      "|  8|  6|  mar|89.3|51.3|102.2|9.6|11.4| 99| 1.8| 0.0| 0.0|      2.0|(12,[2],[1.0])|(22,[0,1,2,3,4,5,...|\n",
      "+---+---+-----+----+----+-----+---+----+---+----+----+----+---------+--------------+--------------------+\n",
      "only showing top 5 rows\n",
      "\n"
     ]
    }
   ],
   "source": [
    "# A VectorAssembler is a \"pure\" Transformer, not a Model that\n",
    "# requires fitting. Use it to transform features.\n",
    "va = VectorAssembler(inputCols=features, outputCol=\"features\")\n",
    "df_vec = va.transform(df_month_vec)\n",
    "\n",
    "df_vec.show(5)"
   ]
  },
  {
   "cell_type": "markdown",
   "id": "4a2f5b4c-f976-4e30-ab64-9379f65b052c",
   "metadata": {},
   "source": [
    "This is definitely a bit weird to look at compared to data prepared in pandas for a scikit-learn model. What you need to know is that all of the feature data that the model will actually use is encoded in the `features` column.\n",
    "\n",
    "Great! We now have our data in a format that seems acceptable for the last step. It's time for us to actually fit our model to data! Let's fit a Random Forest Regression model to our data. Although there are still a bunch of other features in the DataFrame, it doesn't matter for the machine learning model API. All that needs to be specified are the names of the features column and the label (i.e. target) column. "
   ]
  },
  {
   "cell_type": "code",
   "execution_count": 16,
   "id": "92984104-349d-4fd6-8839-e96449c0c828",
   "metadata": {},
   "outputs": [],
   "source": [
    "# Instantiating and fitting the model\n",
    "rf_model = RandomForestRegressor(featuresCol='features', \n",
    "                                 labelCol=target,\n",
    "                                 predictionCol='prediction'\n",
    "                                ).fit(df_vec)"
   ]
  },
  {
   "cell_type": "code",
   "execution_count": 17,
   "id": "f077877d-d6b0-433e-b02b-77d7a20bdbf2",
   "metadata": {},
   "outputs": [
    {
     "data": {
      "text/plain": [
       "SparseVector(22, {0: 0.1008, 1: 0.0745, 2: 0.0324, 3: 0.1497, 4: 0.1649, 5: 0.0691, 6: 0.0903, 7: 0.1177, 8: 0.181, 10: 0.0007, 11: 0.0151, 12: 0.0, 13: 0.0022, 14: 0.0001, 15: 0.0001, 17: 0.0, 18: 0.0001, 19: 0.0, 20: 0.0012})"
      ]
     },
     "execution_count": 17,
     "metadata": {},
     "output_type": "execute_result"
    }
   ],
   "source": [
    "# Inspecting fitted model attributes\n",
    "rf_model.featureImportances"
   ]
  },
  {
   "cell_type": "code",
   "execution_count": 18,
   "id": "422ccb6a-d2b2-4422-b2a5-89adf87878e8",
   "metadata": {},
   "outputs": [
    {
     "name": "stdout",
     "output_type": "stream",
     "text": [
      "+---+---+-----+----+----+-----+---+----+---+----+----+----+---------+--------------+--------------------+-----------------+\n",
      "|  X|  Y|month|FFMC| DMC|   DC|ISI|temp| RH|wind|rain|area|month_num|     month_vec|            features|       prediction|\n",
      "+---+---+-----+----+----+-----+---+----+---+----+----+----+---------+--------------+--------------------+-----------------+\n",
      "|  7|  5|  mar|86.2|26.2| 94.3|5.1| 8.2| 51| 6.7| 0.0| 0.0|      2.0|(12,[2],[1.0])|(22,[0,1,2,3,4,5,...|9.865214821278792|\n",
      "|  7|  4|  oct|90.6|35.4|669.1|6.7|18.0| 33| 0.9| 0.0| 0.0|      6.0|(12,[6],[1.0])|(22,[0,1,2,3,4,5,...|6.065185482144408|\n",
      "|  7|  4|  oct|90.6|43.7|686.9|6.7|14.6| 33| 1.3| 0.0| 0.0|      6.0|(12,[6],[1.0])|(22,[0,1,2,3,4,5,...|6.065185482144408|\n",
      "|  8|  6|  mar|91.7|33.3| 77.5|9.0| 8.3| 97| 4.0| 0.2| 0.0|      2.0|(12,[2],[1.0])|(22,[0,1,2,3,4,5,...| 5.06218978398489|\n",
      "|  8|  6|  mar|89.3|51.3|102.2|9.6|11.4| 99| 1.8| 0.0| 0.0|      2.0|(12,[2],[1.0])|(22,[0,1,2,3,4,5,...|6.419070732321151|\n",
      "+---+---+-----+----+----+-----+---+----+---+----+----+----+---------+--------------+--------------------+-----------------+\n",
      "only showing top 5 rows\n",
      "\n"
     ]
    }
   ],
   "source": [
    "# Transform the DataFrame using the fitted model\n",
    "df_final = rf_model.transform(df_vec)\n",
    "df_final.show(5)"
   ]
  },
  {
   "cell_type": "markdown",
   "id": "0015a74f-d993-47b9-a1ae-4bb924773fed",
   "metadata": {},
   "source": [
    "Again, this looks very different from our usual scikit-learn approach. Instead of generating a prediction as a separate vector, it was added as another column in the overall DataFrame."
   ]
  },
  {
   "cell_type": "code",
   "execution_count": 19,
   "id": "19ee3ec2-b34e-4ba6-b910-1e2bce35414f",
   "metadata": {},
   "outputs": [
    {
     "name": "stdout",
     "output_type": "stream",
     "text": [
      "+----+-----------------+\n",
      "|area|       prediction|\n",
      "+----+-----------------+\n",
      "| 0.0|9.865214821278792|\n",
      "| 0.0|6.065185482144408|\n",
      "| 0.0|6.065185482144408|\n",
      "| 0.0| 5.06218978398489|\n",
      "| 0.0|6.419070732321151|\n",
      "| 0.0|43.36323917686213|\n",
      "| 0.0|3.851804052521932|\n",
      "| 0.0|8.095652328177858|\n",
      "| 0.0|8.774972647314447|\n",
      "| 0.0|7.363430782915105|\n",
      "+----+-----------------+\n",
      "only showing top 10 rows\n",
      "\n"
     ]
    }
   ],
   "source": [
    "#Model Evaluation\n",
    "df_final.select(target, 'prediction').show(10)"
   ]
  },
  {
   "cell_type": "markdown",
   "id": "874f6ee5-8351-4895-97ae-316b1286ba82",
   "metadata": {},
   "source": [
    "Ok, this snapshot is showing the model consistently predicting too high of an area.\n",
    "\n",
    "What if we look at the subset where the area was greater than zero?"
   ]
  },
  {
   "cell_type": "code",
   "execution_count": 20,
   "id": "c4e3e38a-e8a9-41e2-8097-0bdbb8e24198",
   "metadata": {},
   "outputs": [
    {
     "name": "stdout",
     "output_type": "stream",
     "text": [
      "+----+------------------+\n",
      "|area|        prediction|\n",
      "+----+------------------+\n",
      "|0.36|17.032304959940582|\n",
      "|0.43|13.489666570980663|\n",
      "|0.47|10.301923587175917|\n",
      "|0.55|4.7357794876855985|\n",
      "|0.61|  9.99372359529736|\n",
      "|0.71|10.783157507620384|\n",
      "|0.77| 4.121625006286544|\n",
      "| 0.9|12.663606029188708|\n",
      "|0.95| 5.851585099309608|\n",
      "|0.96| 8.372587040859829|\n",
      "+----+------------------+\n",
      "only showing top 10 rows\n",
      "\n"
     ]
    }
   ],
   "source": [
    "df_final[df_final[target] > 0].select(target, 'prediction').show(10)"
   ]
  },
  {
   "cell_type": "markdown",
   "id": "6f60a875-7753-4722-a482-4576af716772",
   "metadata": {},
   "source": [
    "Still not so great. Let's use some metrics to evaluate formally.\n",
    "\n",
    "PySpark has a class `RegressionEvaluator` that is designed for this purpose:"
   ]
  },
  {
   "cell_type": "code",
   "execution_count": 21,
   "id": "7c7af097-2bac-4646-acd4-89edec2f9559",
   "metadata": {},
   "outputs": [],
   "source": [
    "from pyspark.ml.evaluation import RegressionEvaluator\n",
    "evaluator = RegressionEvaluator(predictionCol='prediction', labelCol=target)"
   ]
  },
  {
   "cell_type": "code",
   "execution_count": 22,
   "id": "fecde944-d386-4ea1-b7fa-65d9e1484db2",
   "metadata": {},
   "outputs": [
    {
     "data": {
      "text/plain": [
       "0.6714253147498945"
      ]
     },
     "execution_count": 22,
     "metadata": {},
     "output_type": "execute_result"
    }
   ],
   "source": [
    "# Evaluating r^2\n",
    "evaluator.evaluate(df_final, {evaluator.metricName: 'r2'})"
   ]
  },
  {
   "cell_type": "code",
   "execution_count": 23,
   "id": "21ff0f96-76f6-4400-82b4-37f34adbb0ec",
   "metadata": {},
   "outputs": [
    {
     "data": {
      "text/plain": [
       "13.562385110992375"
      ]
     },
     "execution_count": 23,
     "metadata": {},
     "output_type": "execute_result"
    }
   ],
   "source": [
    "# Evaluating mean absolute error\n",
    "evaluator.evaluate(df_final, {evaluator.metricName: 'mae'})"
   ]
  },
  {
   "cell_type": "markdown",
   "id": "aa17435e-b360-441d-981c-5a4c614a74a0",
   "metadata": {},
   "source": [
    "In other words, our model is able to explain about 80% of the variance in the data, and on average its area prediction is off by about 13 hectares."
   ]
  },
  {
   "cell_type": "code",
   "execution_count": 24,
   "id": "5d10d72b-0430-4690-8bc7-65d11752a77d",
   "metadata": {},
   "outputs": [
    {
     "name": "stdout",
     "output_type": "stream",
     "text": [
      "['X', 'Y', 'FFMC', 'DMC', 'DC', 'ISI', 'temp', 'RH', 'wind', 'rain', 'month_vec']\n",
      "area\n"
     ]
    }
   ],
   "source": [
    "#Putting it all in a pipeline\n",
    "# Recall that we have already established features and target variables\n",
    "print(features)\n",
    "print(target)"
   ]
  },
  {
   "cell_type": "code",
   "execution_count": 25,
   "id": "f8823d6d-d31a-4849-b3e7-9185232ee7ca",
   "metadata": {},
   "outputs": [],
   "source": [
    "# Importing relevant class\n",
    "from pyspark.ml import Pipeline\n",
    "\n",
    "# Creating a variable for this one because we will need it later\n",
    "# Using the features and target columns, create a column of predictions\n",
    "random_forest = RandomForestRegressor(featuresCol='features', labelCol=target, predictionCol='prediction')\n",
    "\n",
    "# Instantiating the pipeline with all the estimators\n",
    "pipeline = Pipeline(stages=[\n",
    "    # Convert string data in 'month' column to numeric data in 'month_num' column\n",
    "    StringIndexer(inputCol='month', outputCol='month_num', handleInvalid='keep'),\n",
    "    # Convert 'month_num' numbers to sparse vector in 'month_vec' column\n",
    "    OneHotEncoder(inputCols=['month_num'], outputCols=['month_vec'], dropLast=True),\n",
    "    # Convert all of the relevant features to sparse vector in 'features' column\n",
    "    VectorAssembler(inputCols=features, outputCol='features'),\n",
    "    random_forest\n",
    "])"
   ]
  },
  {
   "cell_type": "code",
   "execution_count": 26,
   "id": "74d4408d-4eae-47e8-9f9d-7d0eeff5dd97",
   "metadata": {},
   "outputs": [
    {
     "name": "stdout",
     "output_type": "stream",
     "text": [
      "+---+---+-----+---+----+-----+-----+----+----+---+----+----+----+---------+--------------+--------------------+-----------------+\n",
      "|  X|  Y|month|day|FFMC|  DMC|   DC| ISI|temp| RH|wind|rain|area|month_num|     month_vec|            features|       prediction|\n",
      "+---+---+-----+---+----+-----+-----+----+----+---+----+----+----+---------+--------------+--------------------+-----------------+\n",
      "|  7|  5|  mar|fri|86.2| 26.2| 94.3| 5.1| 8.2| 51| 6.7| 0.0| 0.0|      2.0|(12,[2],[1.0])|(22,[0,1,2,3,4,5,...|9.865214821278792|\n",
      "|  7|  4|  oct|tue|90.6| 35.4|669.1| 6.7|18.0| 33| 0.9| 0.0| 0.0|      6.0|(12,[6],[1.0])|(22,[0,1,2,3,4,5,...|6.065185482144408|\n",
      "|  7|  4|  oct|sat|90.6| 43.7|686.9| 6.7|14.6| 33| 1.3| 0.0| 0.0|      6.0|(12,[6],[1.0])|(22,[0,1,2,3,4,5,...|6.065185482144408|\n",
      "|  8|  6|  mar|fri|91.7| 33.3| 77.5| 9.0| 8.3| 97| 4.0| 0.2| 0.0|      2.0|(12,[2],[1.0])|(22,[0,1,2,3,4,5,...| 5.06218978398489|\n",
      "|  8|  6|  mar|sun|89.3| 51.3|102.2| 9.6|11.4| 99| 1.8| 0.0| 0.0|      2.0|(12,[2],[1.0])|(22,[0,1,2,3,4,5,...|6.419070732321151|\n",
      "|  8|  6|  aug|sun|92.3| 85.3|488.0|14.7|22.2| 29| 5.4| 0.0| 0.0|      0.0|(12,[0],[1.0])|(22,[0,1,2,3,4,5,...|43.36323917686213|\n",
      "|  8|  6|  aug|mon|92.3| 88.9|495.6| 8.5|24.1| 27| 3.1| 0.0| 0.0|      0.0|(12,[0],[1.0])|(22,[0,1,2,3,4,5,...|3.851804052521932|\n",
      "|  8|  6|  aug|mon|91.5|145.4|608.2|10.7| 8.0| 86| 2.2| 0.0| 0.0|      0.0|(12,[0],[1.0])|(22,[0,1,2,3,4,5,...|8.095652328177858|\n",
      "|  8|  6|  sep|tue|91.0|129.5|692.6| 7.0|13.1| 63| 5.4| 0.0| 0.0|      1.0|(12,[1],[1.0])|(22,[0,1,2,3,4,5,...|8.774972647314447|\n",
      "|  7|  5|  sep|sat|92.5| 88.0|698.6| 7.1|22.8| 40| 4.0| 0.0| 0.0|      1.0|(12,[1],[1.0])|(22,[0,1,2,3,4,5,...|7.363430782915105|\n",
      "+---+---+-----+---+----+-----+-----+----+----+---+----+----+----+---------+--------------+--------------------+-----------------+\n",
      "only showing top 10 rows\n",
      "\n"
     ]
    }
   ],
   "source": [
    "# Now we can perform all of the above preprocessing steps!\n",
    "df_final_pipeline = pipeline.fit(fire_df).transform(fire_df)\n",
    "df_final_pipeline.show(10)"
   ]
  },
  {
   "cell_type": "code",
   "execution_count": 27,
   "id": "c06e64ef-11d3-4ae9-a45d-041ac001c924",
   "metadata": {},
   "outputs": [
    {
     "data": {
      "text/plain": [
       "0.6714253147498945"
      ]
     },
     "execution_count": 27,
     "metadata": {},
     "output_type": "execute_result"
    }
   ],
   "source": [
    "# Evaluating r^2\n",
    "evaluator.evaluate(df_final_pipeline, {evaluator.metricName: 'r2'})"
   ]
  },
  {
   "cell_type": "code",
   "execution_count": 28,
   "id": "c93a3567-fd1d-4636-b665-aa79fcf207aa",
   "metadata": {},
   "outputs": [
    {
     "data": {
      "text/plain": [
       "13.562385110992375"
      ]
     },
     "execution_count": 28,
     "metadata": {},
     "output_type": "execute_result"
    }
   ],
   "source": [
    "# Evaluating mean absolute error\n",
    "evaluator.evaluate(df_final_pipeline, {evaluator.metricName: 'mae'})"
   ]
  },
  {
   "cell_type": "markdown",
   "id": "c04c12cc-f618-4b1b-907c-e9976955479c",
   "metadata": {},
   "source": [
    "And we're getting the same metrics as before!\n",
    "\n",
    "**Model Tunning**You might have missed a critical step in the random forest regression above; we did not cross validate or perform a train/test split! This means that we don't have a good idea of how our model would perform on unseen data, or have a good setup for model tuning.\r\n",
    "\r\n",
    "Fortunately pipelines in MLlib make this process fairly straightforward. Some components to be aware of are:\r\n",
    "\r\n",
    "* `ParamGridBuilder` ([documentation here](https://spark.apache.org/docs/latest/api/python/reference/api/pyspark.ml.tuning.ParamGridBuilder.html)): This is similar to `GridSearchCV` in scikit-learn.\r\n",
    "  * It allows you to specify and test out various combinations of parameters.\r\n",
    "  * Also like `GridSearchCV`, it is easy to write code that will take a **very** long time to execute, so be cautious with the number of models you try to run at once!\r\n",
    "  * Unlike `GridSearchCV`, it isn't necessarily used with a cross-validation strategy. You can choose between using cross-validation or a train-validation split depending on the context.\r\n",
    "* `CrossValidator` ([documentation here](https://spark.apache.org/docs/latest/api/python/reference/api/pyspark.ml.tuning.CrossValidator.html)): This is similar to `cross_val_score` in scikit-learn, although it's a class rather than a function.\r\n",
    "  * It allows you to perform k-fold cross-validation, to get model metrics across several different splits of data.\r\n",
    "* `TrainValidationSplit` ([documentation here](https://spark.apache.org/docs/latest/api/python/reference/api/pyspark.ml.tuning.TrainValidationSplit.html)): There is no direct parallel to this in scikit-learn, although it contains elements of `train_test_split`.\r\n",
    "  * It allows you to perform a train-validation split, and to evaluate a model based on a validation set that the model was not trained on.\r\n",
    "\r\n",
    "#### Comparing `CrossValidator` and `TrainValidationSplit`\r\n",
    "  \r\n",
    "`CrossValidator` is more computationally expensive but will likely give you a more realistic view of how your model will perform on unseen data. `TrainValidationSplit` is faster but potentially less realistic, because it is relying on a single split of the data. For this lesson we'll only use `CrossValidator`, and we expect the grid search to take up to a couple of minutes. If your computer is running very slowly, you might consider changing it to a `TrainValidationSplit`, although the numbers will come out a bit different.\r\n",
    "\r\n",
    "#### Building Our Param Grid\r\n",
    "\r\n",
    "Let's go ahead and import those classes, then build our param grid!\r\n",
    "\r\n",
    "Note that we are specifying hyperparameters for the `RandomForestRegressor`, documentation for which can be found [here](https://spark.apache.org/docs/latest/api/python/reference/api/pyspark.ml.regression.RandomForestRegressor.html)."
   ]
  },
  {
   "cell_type": "code",
   "execution_count": 29,
   "id": "a003c143-d296-4c08-805e-f324c97bde31",
   "metadata": {},
   "outputs": [],
   "source": [
    "# Model tuning imports\n",
    "from pyspark.ml.tuning import ParamGridBuilder, CrossValidator"
   ]
  },
  {
   "cell_type": "code",
   "execution_count": 30,
   "id": "3898bbe2-ee7c-48c7-a573-c23f351b6592",
   "metadata": {},
   "outputs": [],
   "source": [
    "# Creating parameter grid \n",
    "\n",
    "# (This style of multi-line code with backslashes imitates the\n",
    "# style of Scala, the original Spark languge)\n",
    "\n",
    "params = ParamGridBuilder()\\\n",
    "          .addGrid(random_forest.maxDepth, [5, 10, 15])\\\n",
    "          .addGrid(random_forest.numTrees, [20, 50, 100])\\\n",
    "          .build()"
   ]
  },
  {
   "cell_type": "code",
   "execution_count": 31,
   "id": "01e18344-a9c9-4af1-a795-4397d321f339",
   "metadata": {},
   "outputs": [
    {
     "name": "stdout",
     "output_type": "stream",
     "text": [
      "total combinations of parameters:  9\n"
     ]
    },
    {
     "data": {
      "text/plain": [
       "{Param(parent='RandomForestRegressor_e8a891fe36ce', name='maxDepth', doc='Maximum depth of the tree. (>= 0) E.g., depth 0 means 1 leaf node; depth 1 means 1 internal node + 2 leaf nodes.'): 5,\n",
       " Param(parent='RandomForestRegressor_e8a891fe36ce', name='numTrees', doc='Number of trees to train (>= 1).'): 20}"
      ]
     },
     "execution_count": 31,
     "metadata": {},
     "output_type": "execute_result"
    }
   ],
   "source": [
    "print('total combinations of parameters: ', len(params))\n",
    "\n",
    "params[0]"
   ]
  },
  {
   "cell_type": "code",
   "execution_count": 32,
   "id": "6b77910f-c87c-4189-92d5-8f0679ac4706",
   "metadata": {},
   "outputs": [],
   "source": [
    "#Cross-validation\n",
    "# Instantiating the evaluator by which we will measure our model's performance\n",
    "reg_evaluator = RegressionEvaluator(\n",
    "    # 'prediction' is where our model is adding the prediction to the df\n",
    "    predictionCol='prediction',\n",
    "    # The evaluator is comparing the prediction to this target\n",
    "    labelCol=target,\n",
    "    # The evaluator is evaluation the prediction based on this metric\n",
    "    metricName = 'mae'\n",
    ")\n",
    "\n",
    "# Instantiating cross validator estimator\n",
    "cv = CrossValidator(\n",
    "    # Will call fit and transform using this\n",
    "    estimator=pipeline,\n",
    "    # Will iterate over these hyperparameter options\n",
    "    estimatorParamMaps=params,\n",
    "    # Will evaluate based on this evaluator\n",
    "    evaluator=reg_evaluator,\n",
    "    # Will use 4 threads when running parallel algorithms\n",
    "    parallelism=4\n",
    ")"
   ]
  },
  {
   "cell_type": "code",
   "execution_count": 33,
   "id": "222ded99-72f7-4c7f-9203-f67dd51ae635",
   "metadata": {},
   "outputs": [],
   "source": [
    "# Fitting cross validator\n",
    "cross_validated_model = cv.fit(fire_df)"
   ]
  },
  {
   "cell_type": "code",
   "execution_count": 34,
   "id": "b2836ad9-ad7c-43b8-9871-ee66dfd04a7a",
   "metadata": {},
   "outputs": [
    {
     "data": {
      "text/plain": [
       "[21.53555281147295,\n",
       " 21.23955146836856,\n",
       " 21.062907725167882,\n",
       " 22.416822011112963,\n",
       " 22.00420922782381,\n",
       " 21.88619409098829,\n",
       " 22.56269610429128,\n",
       " 22.079626851245642,\n",
       " 21.97704592036328]"
      ]
     },
     "execution_count": 34,
     "metadata": {},
     "output_type": "execute_result"
    }
   ],
   "source": [
    "#model evaluation with cross-validation\n",
    "cross_validated_model.avgMetrics"
   ]
  },
  {
   "cell_type": "markdown",
   "id": "cf01a3a4-dd55-4cf0-9bca-9aacd748e4df",
   "metadata": {},
   "source": [
    "It looks like the optimal performance is an MAE around 20. Note that this is worse than our original model, but that's because our original model had substantial data leakage. We didn't do a train-test split!\n",
    "\n",
    "Now, let's take a look at the optimal parameters of our best performing model. The `cross_validated_model` variable is now saved as the best performing model from the grid search just performed. Let's look to see how well the predictions performed."
   ]
  },
  {
   "cell_type": "code",
   "execution_count": 35,
   "id": "e745f6ec-2e5a-4562-8445-d5e3b61ec759",
   "metadata": {},
   "outputs": [
    {
     "name": "stdout",
     "output_type": "stream",
     "text": [
      "+----+------------------+\n",
      "|area|        prediction|\n",
      "+----+------------------+\n",
      "| 0.0| 6.133136889952489|\n",
      "| 0.0|5.3268575927519715|\n",
      "| 0.0| 5.208986414769131|\n",
      "| 0.0|  6.67434851677017|\n",
      "| 0.0| 5.949663342762022|\n",
      "| 0.0|  9.33850354690929|\n",
      "| 0.0|  5.70618013685514|\n",
      "| 0.0| 9.045235346925123|\n",
      "| 0.0|11.985474611110353|\n",
      "| 0.0| 6.209528773824651|\n",
      "| 0.0| 5.468497308224845|\n",
      "| 0.0| 7.171835120590817|\n",
      "| 0.0| 6.691204636463962|\n",
      "| 0.0|10.345674761856223|\n",
      "| 0.0| 56.49080327361822|\n",
      "| 0.0| 7.695855861128843|\n",
      "| 0.0| 5.475526587417717|\n",
      "| 0.0| 9.768999643672394|\n",
      "| 0.0| 5.750262108550381|\n",
      "| 0.0|6.5474517322841015|\n",
      "| 0.0|11.884930288443861|\n",
      "| 0.0| 5.123118665011605|\n",
      "| 0.0| 6.011841713428027|\n",
      "| 0.0| 10.45412894795777|\n",
      "| 0.0| 7.871367482428116|\n",
      "| 0.0| 6.975991307126082|\n",
      "| 0.0|  8.55094780648512|\n",
      "| 0.0| 9.572603902974564|\n",
      "| 0.0| 35.01256381389712|\n",
      "| 0.0|  9.68612045206511|\n",
      "| 0.0|16.573337586269865|\n",
      "| 0.0| 6.308785177248142|\n",
      "| 0.0|11.583125386462589|\n",
      "| 0.0| 5.227421082123674|\n",
      "| 0.0| 5.133271632471033|\n",
      "| 0.0| 7.036223514663044|\n",
      "| 0.0| 8.212095657748147|\n",
      "| 0.0| 6.087180084644959|\n",
      "| 0.0|6.1618831607294045|\n",
      "| 0.0| 4.703211761890904|\n",
      "| 0.0|24.468847112817503|\n",
      "| 0.0| 4.578787295541767|\n",
      "| 0.0|4.6259684927926825|\n",
      "| 0.0| 7.358265067648965|\n",
      "| 0.0| 6.565467582199297|\n",
      "| 0.0| 55.95595216755997|\n",
      "| 0.0| 7.088503584274092|\n",
      "| 0.0| 6.331488061471491|\n",
      "| 0.0| 4.689039844811058|\n",
      "| 0.0| 6.259295163909801|\n",
      "| 0.0| 10.67237032626543|\n",
      "| 0.0| 6.320457330373244|\n",
      "| 0.0| 4.721410013617493|\n",
      "| 0.0| 4.721410013617493|\n",
      "| 0.0| 4.929826730443364|\n",
      "| 0.0| 9.882898025873738|\n",
      "| 0.0| 6.163664944078021|\n",
      "| 0.0| 4.236889793599755|\n",
      "| 0.0| 5.949846276711299|\n",
      "| 0.0| 7.216481787255915|\n",
      "| 0.0| 4.491042652449894|\n",
      "| 0.0| 5.090287410336107|\n",
      "| 0.0| 4.944091603280804|\n",
      "| 0.0| 4.078910921966082|\n",
      "| 0.0| 5.685021572287388|\n",
      "| 0.0| 7.176083777745247|\n",
      "| 0.0|12.040926691252025|\n",
      "| 0.0|10.014669312121958|\n",
      "| 0.0| 9.561813919965095|\n",
      "| 0.0|  4.47076048643704|\n",
      "| 0.0| 4.933710015580174|\n",
      "| 0.0| 5.452084708377133|\n",
      "| 0.0| 3.800451754729548|\n",
      "| 0.0| 4.502145920347022|\n",
      "| 0.0| 9.862240336379562|\n",
      "| 0.0| 5.452193943263036|\n",
      "| 0.0| 5.146669573689167|\n",
      "| 0.0| 8.319858803882697|\n",
      "| 0.0|3.4210383630714563|\n",
      "| 0.0|24.612421889237417|\n",
      "| 0.0| 6.930694146584767|\n",
      "| 0.0| 13.26258339035493|\n",
      "| 0.0|  4.85530779515161|\n",
      "| 0.0| 9.466728189367359|\n",
      "| 0.0| 7.484696648107772|\n",
      "| 0.0| 18.79733386252367|\n",
      "| 0.0|10.839040302761259|\n",
      "| 0.0|19.127222109098597|\n",
      "| 0.0|28.934849788816283|\n",
      "| 0.0| 4.948297566972375|\n",
      "| 0.0|  5.02136849272864|\n",
      "| 0.0| 6.398216037740335|\n",
      "| 0.0| 9.076196466779274|\n",
      "| 0.0|21.144729276347572|\n",
      "| 0.0|14.308333849586898|\n",
      "| 0.0| 5.561234077710177|\n",
      "| 0.0| 5.016753113786558|\n",
      "| 0.0| 4.845335347383788|\n",
      "| 0.0| 5.027926583379904|\n",
      "| 0.0| 6.420369846946709|\n",
      "| 0.0| 6.420369846946709|\n",
      "| 0.0| 4.821763745832446|\n",
      "| 0.0| 5.172560129951392|\n",
      "| 0.0| 13.46353677333982|\n",
      "| 0.0| 5.560488369123008|\n",
      "| 0.0| 5.503905354750277|\n",
      "| 0.0| 7.254056371707186|\n",
      "| 0.0| 5.075466282126209|\n",
      "| 0.0|7.3985169524580305|\n",
      "| 0.0|5.7635269194823335|\n",
      "| 0.0| 5.539475161103473|\n",
      "| 0.0| 4.262892858604201|\n",
      "| 0.0| 6.556402102291008|\n",
      "| 0.0| 5.798990769015566|\n",
      "| 0.0| 5.703669136902753|\n",
      "| 0.0| 5.530850541331562|\n",
      "| 0.0|  5.05252187071719|\n",
      "| 0.0| 5.647092885354018|\n",
      "| 0.0| 5.348831791972621|\n",
      "| 0.0| 5.349017431934045|\n",
      "| 0.0| 4.446304799428989|\n",
      "| 0.0| 4.928595107017667|\n",
      "| 0.0| 8.657804899612591|\n",
      "| 0.0| 6.266778738153477|\n",
      "| 0.0| 5.804248616276604|\n",
      "| 0.0| 7.649896776227828|\n",
      "| 0.0| 5.419927648449699|\n",
      "| 0.0| 7.173962204487095|\n",
      "| 0.0| 5.580654208698234|\n",
      "| 0.0| 4.782920263738962|\n",
      "| 0.0|7.0062192071643175|\n",
      "| 0.0| 4.934517322856281|\n",
      "| 0.0|  5.57091356091614|\n",
      "| 0.0| 6.802787108577299|\n",
      "| 0.0| 4.657978978816728|\n",
      "| 0.0| 6.007822456381226|\n",
      "| 0.0| 7.173403201640408|\n",
      "| 0.0| 6.738176242802573|\n",
      "|0.36| 11.73261265310142|\n",
      "|0.43|13.727169657585488|\n",
      "|0.47|11.635180747312885|\n",
      "|0.55| 4.608815597720316|\n",
      "|0.61| 17.42297037174644|\n",
      "|0.71| 6.005374111457477|\n",
      "|0.77| 4.627672055025187|\n",
      "| 0.9|26.630327281581085|\n",
      "|0.95| 5.418125127374762|\n",
      "|0.96|15.816777143039046|\n",
      "|1.07|  5.21440997485878|\n",
      "|1.12|13.189894273730483|\n",
      "+----+------------------+\n",
      "only showing top 150 rows\n",
      "\n"
     ]
    }
   ],
   "source": [
    "predictions = cross_validated_model.transform(fire_df)\n",
    "predictions.select('area', 'prediction').show(150)"
   ]
  },
  {
   "cell_type": "markdown",
   "id": "60956969-a7a1-4a5b-b359-70dea1f8a121",
   "metadata": {},
   "source": [
    "As you can see, this dataset has a large number of areas of \"0.0\" burned. Perhaps it would be better to investigate this problem as a classification task.\n",
    "\n",
    "Now let's go ahead and take a look at the feature importances of our random forest model. In order to do this, we need to unroll our pipeline to access the random forest model. Let's start by first checking out the `.bestModel` attribute of our `cross_validated_model`. "
   ]
  },
  {
   "cell_type": "code",
   "execution_count": 36,
   "id": "2c152ead-ae84-45c6-86e3-d45214d07dd8",
   "metadata": {},
   "outputs": [
    {
     "data": {
      "text/plain": [
       "pyspark.ml.pipeline.PipelineModel"
      ]
     },
     "execution_count": 36,
     "metadata": {},
     "output_type": "execute_result"
    }
   ],
   "source": [
    "type(cross_validated_model.bestModel)"
   ]
  },
  {
   "cell_type": "markdown",
   "id": "25029649-72b7-49fe-b35f-7017b9e3c475",
   "metadata": {},
   "source": [
    "MLlib is treating the entire pipeline as the best performing model, so we need to go deeper into the pipeline to access the random forest model within it. Previously, we put the random forest model as the final \"stage\" in the stages variable list. Let's look at the `.stages` attribute of the `.bestModel`."
   ]
  },
  {
   "cell_type": "code",
   "execution_count": 37,
   "id": "02e18e3c-ba8b-4809-9f42-9ca00149a481",
   "metadata": {},
   "outputs": [
    {
     "data": {
      "text/plain": [
       "[StringIndexerModel: uid=StringIndexer_b0020a16742a, handleInvalid=keep,\n",
       " OneHotEncoderModel: uid=OneHotEncoder_f2928164732c, dropLast=true, handleInvalid=error, numInputCols=1, numOutputCols=1,\n",
       " VectorAssembler_781e2d67a4e9,\n",
       " RandomForestRegressionModel: uid=RandomForestRegressor_e8a891fe36ce, numTrees=100, numFeatures=22]"
      ]
     },
     "execution_count": 37,
     "metadata": {},
     "output_type": "execute_result"
    }
   ],
   "source": [
    "cross_validated_model.bestModel.stages"
   ]
  },
  {
   "cell_type": "markdown",
   "id": "ae01a332-2baf-4716-9376-8fb13255980f",
   "metadata": {},
   "source": [
    "Perfect! There's the RandomForestRegressionModel, represented by the last item in the stages list. Now, we should be able to access all the attributes of the random forest regressor."
   ]
  },
  {
   "cell_type": "code",
   "execution_count": 38,
   "id": "d3d7969b-1bfe-4fef-8555-cb6768812135",
   "metadata": {},
   "outputs": [],
   "source": [
    "optimal_rf_model = cross_validated_model.bestModel.stages[3]"
   ]
  },
  {
   "cell_type": "code",
   "execution_count": 39,
   "id": "238bf727-1c18-4821-8d45-ed1aedf4d8f2",
   "metadata": {},
   "outputs": [
    {
     "data": {
      "text/plain": [
       "SparseVector(22, {0: 0.0794, 1: 0.0813, 2: 0.159, 3: 0.1413, 4: 0.0868, 5: 0.1049, 6: 0.1403, 7: 0.1009, 8: 0.0784, 10: 0.0014, 11: 0.0138, 12: 0.0003, 13: 0.009, 14: 0.0007, 15: 0.0015, 16: 0.0001, 17: 0.0001, 18: 0.0002, 20: 0.0006})"
      ]
     },
     "execution_count": 39,
     "metadata": {},
     "output_type": "execute_result"
    }
   ],
   "source": [
    "optimal_rf_model.featureImportances"
   ]
  },
  {
   "cell_type": "code",
   "execution_count": 40,
   "id": "7dc001da-b8ff-40f9-950c-70556d4c1efe",
   "metadata": {},
   "outputs": [
    {
     "data": {
      "text/plain": [
       "100"
      ]
     },
     "execution_count": 40,
     "metadata": {},
     "output_type": "execute_result"
    }
   ],
   "source": [
    "optimal_rf_model.getNumTrees"
   ]
  },
  {
   "cell_type": "markdown",
   "id": "976116af-d662-4474-8353-137a76eb4adb",
   "metadata": {},
   "source": [
    "## Credit Card Default Dataset"
   ]
  },
  {
   "cell_type": "code",
   "execution_count": 42,
   "id": "7d5e084f-d261-44d8-8a4c-13861ee98567",
   "metadata": {},
   "outputs": [],
   "source": [
    "# import necessary libraries\n",
    "from pyspark.sql import SparkSession\n",
    "\n",
    "# initialize Spark Session\n",
    "spark = SparkSession.builder.master('local').getOrCreate()\n",
    "\n",
    "# read in csv to a spark dataframe\n",
    "spark_df = spark.read.csv('credit_card_default.csv', header='true', inferSchema='true')"
   ]
  },
  {
   "cell_type": "code",
   "execution_count": 43,
   "id": "e84df5fa-9093-4bd1-9ae7-01dfdc81ca93",
   "metadata": {},
   "outputs": [
    {
     "data": {
      "text/plain": [
       "[Row(ID=2, LIMIT_BAL=120000.0, SEX='Female', EDUCATION='College', MARRIAGE='Single', AGE=26, PAY_0=-1, PAY_2=2, PAY_3=0, PAY_4=0, PAY_5=0, PAY_6=2, BILL_AMT1=2682.0, BILL_AMT2=1725.0, BILL_AMT3=2682.0, BILL_AMT4=3272.0, BILL_AMT5=3455.0, BILL_AMT6=3261.0, PAY_AMT1=0.0, PAY_AMT2=1000.0, PAY_AMT3=1000.0, PAY_AMT4=1000.0, PAY_AMT5=0.0, PAY_AMT6=2000.0, default=1),\n",
       " Row(ID=3, LIMIT_BAL=90000.0, SEX='Female', EDUCATION='College', MARRIAGE='Single', AGE=34, PAY_0=0, PAY_2=0, PAY_3=0, PAY_4=0, PAY_5=0, PAY_6=0, BILL_AMT1=29239.0, BILL_AMT2=14027.0, BILL_AMT3=13559.0, BILL_AMT4=14331.0, BILL_AMT5=14948.0, BILL_AMT6=15549.0, PAY_AMT1=1518.0, PAY_AMT2=1500.0, PAY_AMT3=1000.0, PAY_AMT4=1000.0, PAY_AMT5=1000.0, PAY_AMT6=5000.0, default=0),\n",
       " Row(ID=4, LIMIT_BAL=50000.0, SEX='Female', EDUCATION='College', MARRIAGE='Married', AGE=37, PAY_0=0, PAY_2=0, PAY_3=0, PAY_4=0, PAY_5=0, PAY_6=0, BILL_AMT1=46990.0, BILL_AMT2=48233.0, BILL_AMT3=49291.0, BILL_AMT4=28314.0, BILL_AMT5=28959.0, BILL_AMT6=29547.0, PAY_AMT1=2000.0, PAY_AMT2=2019.0, PAY_AMT3=1200.0, PAY_AMT4=1100.0, PAY_AMT5=1069.0, PAY_AMT6=1000.0, default=0),\n",
       " Row(ID=5, LIMIT_BAL=50000.0, SEX='Male', EDUCATION='College', MARRIAGE='Married', AGE=57, PAY_0=-1, PAY_2=0, PAY_3=-1, PAY_4=0, PAY_5=0, PAY_6=0, BILL_AMT1=8617.0, BILL_AMT2=5670.0, BILL_AMT3=35835.0, BILL_AMT4=20940.0, BILL_AMT5=19146.0, BILL_AMT6=19131.0, PAY_AMT1=2000.0, PAY_AMT2=36681.0, PAY_AMT3=10000.0, PAY_AMT4=9000.0, PAY_AMT5=689.0, PAY_AMT6=679.0, default=0),\n",
       " Row(ID=6, LIMIT_BAL=50000.0, SEX='Male', EDUCATION='Graduate', MARRIAGE='Single', AGE=37, PAY_0=0, PAY_2=0, PAY_3=0, PAY_4=0, PAY_5=0, PAY_6=0, BILL_AMT1=64400.0, BILL_AMT2=57069.0, BILL_AMT3=57608.0, BILL_AMT4=19394.0, BILL_AMT5=19619.0, BILL_AMT6=20024.0, PAY_AMT1=2500.0, PAY_AMT2=1815.0, PAY_AMT3=657.0, PAY_AMT4=1000.0, PAY_AMT5=1000.0, PAY_AMT6=800.0, default=0)]"
      ]
     },
     "execution_count": 43,
     "metadata": {},
     "output_type": "execute_result"
    }
   ],
   "source": [
    "# Display the first 5 records\n",
    "spark_df.head(5)"
   ]
  },
  {
   "cell_type": "code",
   "execution_count": 44,
   "id": "b6362637-c9c9-437e-bd63-1d2038e1a91e",
   "metadata": {},
   "outputs": [
    {
     "name": "stdout",
     "output_type": "stream",
     "text": [
      "root\n",
      " |-- ID: integer (nullable = true)\n",
      " |-- LIMIT_BAL: double (nullable = true)\n",
      " |-- SEX: string (nullable = true)\n",
      " |-- EDUCATION: string (nullable = true)\n",
      " |-- MARRIAGE: string (nullable = true)\n",
      " |-- AGE: integer (nullable = true)\n",
      " |-- PAY_0: integer (nullable = true)\n",
      " |-- PAY_2: integer (nullable = true)\n",
      " |-- PAY_3: integer (nullable = true)\n",
      " |-- PAY_4: integer (nullable = true)\n",
      " |-- PAY_5: integer (nullable = true)\n",
      " |-- PAY_6: integer (nullable = true)\n",
      " |-- BILL_AMT1: double (nullable = true)\n",
      " |-- BILL_AMT2: double (nullable = true)\n",
      " |-- BILL_AMT3: double (nullable = true)\n",
      " |-- BILL_AMT4: double (nullable = true)\n",
      " |-- BILL_AMT5: double (nullable = true)\n",
      " |-- BILL_AMT6: double (nullable = true)\n",
      " |-- PAY_AMT1: double (nullable = true)\n",
      " |-- PAY_AMT2: double (nullable = true)\n",
      " |-- PAY_AMT3: double (nullable = true)\n",
      " |-- PAY_AMT4: double (nullable = true)\n",
      " |-- PAY_AMT5: double (nullable = true)\n",
      " |-- PAY_AMT6: double (nullable = true)\n",
      " |-- default: integer (nullable = true)\n",
      "\n"
     ]
    }
   ],
   "source": [
    "# Print out the schema\n",
    "spark_df.printSchema()"
   ]
  },
  {
   "cell_type": "markdown",
   "id": "409b0d04-d434-4840-b6f0-933c7fdc2cb1",
   "metadata": {},
   "source": [
    "It looks like we have three non-numeric features. For each non-numeric (`string`) feature, select and show all distinct categories."
   ]
  },
  {
   "cell_type": "code",
   "execution_count": 45,
   "id": "2f03736e-f4f0-42e2-9d5e-1ab5fcc38c9c",
   "metadata": {},
   "outputs": [
    {
     "name": "stdout",
     "output_type": "stream",
     "text": [
      "+------+\n",
      "|   SEX|\n",
      "+------+\n",
      "|Female|\n",
      "|  Male|\n",
      "+------+\n",
      "\n",
      "+-----------+\n",
      "|  EDUCATION|\n",
      "+-----------+\n",
      "|High School|\n",
      "|          0|\n",
      "|          5|\n",
      "|          6|\n",
      "|      Other|\n",
      "|   Graduate|\n",
      "|    College|\n",
      "+-----------+\n",
      "\n",
      "+--------+\n",
      "|MARRIAGE|\n",
      "+--------+\n",
      "|       0|\n",
      "|   Other|\n",
      "| Married|\n",
      "|  Single|\n",
      "+--------+\n",
      "\n"
     ]
    }
   ],
   "source": [
    "# Select and show all distinct categories\n",
    "\n",
    "# Loop over all column dtypes and display information if\n",
    "# the dtype is 'string'\n",
    "# (Alternatively you could just list out the column names)\n",
    "for column, data_type in spark_df.dtypes:\n",
    "    if data_type == 'string':\n",
    "        # Select and show distinct values in that column\n",
    "        spark_df.select(column).distinct().show()"
   ]
  },
  {
   "cell_type": "markdown",
   "id": "4ac6e634-3cc6-4751-b07d-d97e9a8dc9bf",
   "metadata": {},
   "source": [
    "Interesting...it looks like we have some extraneous values in our categories. For example both `EDUCATION` and `MARRIAGE` have a category `0`.\n",
    "\n",
    "Let's create some visualizations of each of these to determine just how many of them there are.\n",
    "\n",
    "Create bar plots of the variables `EDUCATION` and `MARRIAGE` to see how the records are distributed between the categories."
   ]
  },
  {
   "cell_type": "code",
   "execution_count": 46,
   "id": "a3c0a951-fbc5-41ef-a9e6-ae5c1baaf9d2",
   "metadata": {},
   "outputs": [
    {
     "name": "stdout",
     "output_type": "stream",
     "text": [
      "+-----------+-----+\n",
      "|  EDUCATION|count|\n",
      "+-----------+-----+\n",
      "|High School| 4917|\n",
      "|          0|   14|\n",
      "|          5|  280|\n",
      "|          6|   51|\n",
      "|      Other|  123|\n",
      "|   Graduate|10585|\n",
      "|    College|14029|\n",
      "+-----------+-----+\n",
      "\n"
     ]
    },
    {
     "data": {
      "image/png": "[encoded data removed]",
      "text/plain": [
       "<Figure size 640x480 with 1 Axes>"
      ]
     },
     "metadata": {},
     "output_type": "display_data"
    }
   ],
   "source": [
    "# Create bar plot of EDUCATION\n",
    "# First, aggregate data\n",
    "education_cats = spark_df.groupBy('EDUCATION').count()\n",
    "education_cats.show()\n",
    "# Then plot data\n",
    "education_cats.toPandas().plot(x=\"EDUCATION\", y=\"count\", kind=\"bar\", rot=0);"
   ]
  },
  {
   "cell_type": "code",
   "execution_count": 47,
   "id": "8c8dd5f6-159d-4f0b-99db-f19d586b6f95",
   "metadata": {},
   "outputs": [
    {
     "name": "stdout",
     "output_type": "stream",
     "text": [
      "+--------+-----+\n",
      "|MARRIAGE|count|\n",
      "+--------+-----+\n",
      "|       0|   54|\n",
      "|   Other|  323|\n",
      "| Married|13658|\n",
      "|  Single|15964|\n",
      "+--------+-----+\n",
      "\n"
     ]
    },
    {
     "data": {
      "image/png": "[encoded data removed]",
      "text/plain": [
       "<Figure size 640x480 with 1 Axes>"
      ]
     },
     "metadata": {},
     "output_type": "display_data"
    }
   ],
   "source": [
    "# Create bar plot of MARRIAGE\n",
    "# First, aggregate data\n",
    "marriage_cats = spark_df.groupby('MARRIAGE').count()\n",
    "marriage_cats.show()\n",
    "# Then plot data\n",
    "marriage_cats.toPandas().plot(x=\"MARRIAGE\", y=\"count\", kind=\"bar\", rot=0);"
   ]
  },
  {
   "cell_type": "markdown",
   "id": "ca982b5a-f98e-4839-9afe-f92299344899",
   "metadata": {},
   "source": [
    "It looks like there are barely any records in the `0`, `5`, and `6` categories. Let's go ahead and bin (combine) those with the current `Other` records into a single catch-all `Other` category for both `EDUCATION` and `MARRIAGE`."
   ]
  },
  {
   "cell_type": "code",
   "execution_count": 48,
   "id": "a3f836a3-828c-4d82-b69d-9e09bd19a426",
   "metadata": {},
   "outputs": [
    {
     "name": "stdout",
     "output_type": "stream",
     "text": [
      "+-----------+\n",
      "|  EDUCATION|\n",
      "+-----------+\n",
      "|High School|\n",
      "|      Other|\n",
      "|   Graduate|\n",
      "|    College|\n",
      "+-----------+\n",
      "\n",
      "+--------+\n",
      "|MARRIAGE|\n",
      "+--------+\n",
      "|   Other|\n",
      "| Married|\n",
      "|  Single|\n",
      "+--------+\n",
      "\n"
     ]
    }
   ],
   "source": [
    "#Binning\n",
    "from pyspark.sql import functions as F\n",
    "# Bin EDUCATION categories\n",
    "df_education_binned = spark_df.withColumn('EDUCATION',\n",
    "                                          F.when(spark_df['EDUCATION'] == '0', 'Other')\\\n",
    "                                          .when(spark_df['EDUCATION'] == '5', 'Other')\\\n",
    "                                          .when(spark_df['EDUCATION'] == '6', 'Other')\\\n",
    "                                          .otherwise(spark_df['EDUCATION'])\n",
    "                                         )\n",
    "# Bin MARRIAGE categories\n",
    "df_all_binned = df_education_binned.withColumn('MARRIAGE',\n",
    "                                               F.when(df_education_binned['MARRIAGE'] == '0', 'Other')\\\n",
    "                                               .otherwise(df_education_binned['MARRIAGE'])\n",
    "                                              )\n",
    "\n",
    "# Select and show all distinct categories for EDUCATION and MARRIGE again\n",
    "df_all_binned.select('EDUCATION').distinct().show()\n",
    "df_all_binned.select('MARRIAGE').distinct().show()"
   ]
  },
  {
   "cell_type": "markdown",
   "id": "87584618-eac6-4d38-b6c4-1fdb22b90f5b",
   "metadata": {},
   "source": [
    "Let's also re-create the plots from earlier, now that the data has been binned:"
   ]
  },
  {
   "cell_type": "code",
   "execution_count": 49,
   "id": "0b806b0a-d5a7-4f45-a7ff-1d67ce8d1149",
   "metadata": {},
   "outputs": [
    {
     "data": {
      "image/png": "[encoded data removed]",
      "text/plain": [
       "<Figure size 640x480 with 1 Axes>"
      ]
     },
     "metadata": {},
     "output_type": "display_data"
    }
   ],
   "source": [
    "# Plot EDUCATION\n",
    "df_all_binned.groupBy('EDUCATION')\\\n",
    "             .count()\\\n",
    "             .toPandas()\\\n",
    "             .plot(x=\"EDUCATION\", y=\"count\", kind=\"bar\", rot=0);"
   ]
  },
  {
   "cell_type": "code",
   "execution_count": 50,
   "id": "6c542135-11c5-4ef4-9ea0-468b060d78db",
   "metadata": {},
   "outputs": [
    {
     "data": {
      "image/png": "[encoded data removed]",
      "text/plain": [
       "<Figure size 640x480 with 1 Axes>"
      ]
     },
     "metadata": {},
     "output_type": "display_data"
    }
   ],
   "source": [
    "# Plot MARRIAGE\n",
    "df_all_binned.groupBy('MARRIAGE')\\\n",
    "             .count()\\\n",
    "             .toPandas()\\\n",
    "             .plot(x=\"MARRIAGE\", y=\"count\", kind=\"bar\", rot=0);"
   ]
  },
  {
   "cell_type": "markdown",
   "id": "7143311c-2588-4181-9f1d-df0430086166",
   "metadata": {},
   "source": [
    "Much better. Now, let's do a little more investigation into our target variable before diving into the machine learning aspect of this project."
   ]
  },
  {
   "cell_type": "markdown",
   "id": "a36845e0-07d4-4864-ad4d-9bee4e5ecdcb",
   "metadata": {},
   "source": [
    "Class Balance Exploration\n",
    "\n",
    "Let's first look at the overall distribution of class balance of the `default` column (the target for our upcoming machine learning process). \n",
    "\n",
    "Create a bar plot to compare the number of defaults (`0`) vs. non-defaults (`1`). Consider customizing your plot labels as well, since `0` and `1` are not particularly understandable values."
   ]
  },
  {
   "cell_type": "code",
   "execution_count": 51,
   "id": "d5c3eb40-12f5-4a58-8a87-0b8e0d6e2375",
   "metadata": {},
   "outputs": [
    {
     "name": "stdout",
     "output_type": "stream",
     "text": [
      "+-------+-----+\n",
      "|default|count|\n",
      "+-------+-----+\n",
      "|      0|23364|\n",
      "|      1| 6635|\n",
      "+-------+-----+\n",
      "\n"
     ]
    },
    {
     "data": {
      "image/png": "[encoded data removed]",
      "text/plain": [
       "<Figure size 640x480 with 1 Axes>"
      ]
     },
     "metadata": {},
     "output_type": "display_data"
    }
   ],
   "source": [
    "import matplotlib.pyplot as plt\n",
    "\n",
    "# Group and aggregate target data\n",
    "target_cats = df_all_binned.groupBy('default').count().orderBy('default')\n",
    "target_cats.show()\n",
    "\n",
    "# Plot target data\n",
    "fig, ax = plt.subplots()\n",
    "target_cats.toPandas().plot(x='default', y='count', kind='bar', ax=ax, rot=0)\n",
    "ax.set_xlabel(\"Target\")\n",
    "ax.set_xticklabels(['Does Not Default (0)','Defaults (1)']);"
   ]
  },
  {
   "cell_type": "markdown",
   "id": "3a5359c9-6ce1-4559-b8b4-e67f8cfc1cef",
   "metadata": {},
   "source": [
    "Looks like we have a fairly imbalanced dataset.\n",
    "\n",
    "Let's also visualize the difference in default rate between males and females in this dataset. Group by both `default` and `SEX` and visualize the comparison."
   ]
  },
  {
   "cell_type": "code",
   "execution_count": 52,
   "id": "d71b96da-bbc9-4ed1-8113-dab825e79f6a",
   "metadata": {},
   "outputs": [
    {
     "name": "stdout",
     "output_type": "stream",
     "text": [
      "+-------+------+-----+\n",
      "|default|   SEX|count|\n",
      "+-------+------+-----+\n",
      "|      0|Female|14349|\n",
      "|      0|  Male| 9015|\n",
      "|      1|Female| 3762|\n",
      "|      1|  Male| 2873|\n",
      "+-------+------+-----+\n",
      "\n"
     ]
    },
    {
     "data": {
      "image/png": "[encoded data removed]",
      "text/plain": [
       "<Figure size 640x480 with 1 Axes>"
      ]
     },
     "metadata": {},
     "output_type": "display_data"
    }
   ],
   "source": [
    "# Group and aggregate target and sex data\n",
    "target_by_sex = df_all_binned.groupBy(['default', 'SEX']).count().orderBy(['default', 'SEX'])\n",
    "target_by_sex.show()\n",
    "\n",
    "# Plot target and sex data\n",
    "fig, ax = plt.subplots()\n",
    "\n",
    "target_by_sex.toPandas().pivot(index='SEX', columns='default')\\\n",
    "               .plot(kind='bar', ax=ax, rot=0)\n",
    "\n",
    "ax.legend(title=\"Count\", labels=['Does Not Default (0)','Defaults (1)']);"
   ]
  },
  {
   "cell_type": "markdown",
   "id": "a799dc1c-d875-4beb-bdc9-e1ce155894be",
   "metadata": {},
   "source": [
    "It looks like males have an ever so slightly higher default rate than females, and also represent a smaller proportion of the dataset.\n",
    "\n",
    "Now, it's time to fit the data to the PySpark machine learning model pipeline"
   ]
  },
  {
   "cell_type": "code",
   "execution_count": 53,
   "id": "ea0c4c5c-2d09-4ea0-93fa-210cbcee103f",
   "metadata": {},
   "outputs": [
    {
     "name": "stdout",
     "output_type": "stream",
     "text": [
      "Indexed string features: ['SEX_num', 'EDUCATION_num', 'MARRIAGE_num'] \n",
      "\n",
      "Numeric features: ['LIMIT_BAL', 'AGE', 'PAY_0', 'PAY_2', 'PAY_3', 'PAY_4', 'PAY_5', 'PAY_6', 'BILL_AMT1', 'BILL_AMT2', 'BILL_AMT3', 'BILL_AMT4', 'BILL_AMT5', 'BILL_AMT6', 'PAY_AMT1', 'PAY_AMT2', 'PAY_AMT3', 'PAY_AMT4', 'PAY_AMT5', 'PAY_AMT6'] \n",
      "\n",
      "Final features: ['LIMIT_BAL', 'AGE', 'PAY_0', 'PAY_2', 'PAY_3', 'PAY_4', 'PAY_5', 'PAY_6', 'BILL_AMT1', 'BILL_AMT2', 'BILL_AMT3', 'BILL_AMT4', 'BILL_AMT5', 'BILL_AMT6', 'PAY_AMT1', 'PAY_AMT2', 'PAY_AMT3', 'PAY_AMT4', 'PAY_AMT5', 'PAY_AMT6', 'SEX_num_ohe', 'EDUCATION_num_ohe', 'MARRIAGE_num_ohe'] \n",
      "\n",
      "Stages: [StringIndexer_908fce9daf43, StringIndexer_499f9a0e73bd, StringIndexer_63572ff67eec, OneHotEncoder_62c5e0ee2841, VectorAssembler_0583c76d61ae]\n"
     ]
    }
   ],
   "source": [
    "# Import the necessary classes\n",
    "from pyspark.ml.feature import StringIndexer, OneHotEncoder, VectorAssembler\n",
    "\n",
    "# Create the string indexers and determine the names of the numeric\n",
    "# and indexed columns\n",
    "# (You could write this out for all 3 but we'll use a loop approach)\n",
    "indexers = []\n",
    "indexed_features = []\n",
    "numeric_features = []\n",
    "\n",
    "for column, data_type in df_all_binned.dtypes:\n",
    "    if data_type == 'string':\n",
    "        # Create StringIndexers for columns containing strings\n",
    "        si = StringIndexer(inputCol=column, outputCol=column+'_num', handleInvalid='keep')\n",
    "        indexers.append(si)\n",
    "        # Save the name of the output column to sent to the OHE\n",
    "        indexed_features.append(si.getOutputCol())\n",
    "    elif column != \"ID\" and column != \"default\":\n",
    "        # Unless it's ID (an identifier rather than a genuine feature),\n",
    "        # append to list of numeric features if the dtype isn't string\n",
    "        numeric_features.append(column)\n",
    "\n",
    "print(\"Indexed string features:\", indexed_features, \"\\n\")\n",
    "print(\"Numeric features:\", numeric_features, \"\\n\")\n",
    "\n",
    "# Create a OneHotEncoder to encode the indexed string features\n",
    "ohe = OneHotEncoder(\n",
    "    inputCols=indexed_features,\n",
    "    outputCols=[col + '_ohe' for col in indexed_features],\n",
    "    dropLast=True\n",
    ")\n",
    "\n",
    "# Determine the names of the final list of features going into the model\n",
    "features = numeric_features + ohe.getOutputCols()\n",
    "print(\"Final features:\", features, \"\\n\")\n",
    "\n",
    "# Create a VectorAssembler to combine all features\n",
    "va = VectorAssembler(inputCols=features , outputCol='features')\n",
    "\n",
    "# Assemble a list of stages that includes all indexers, the one-hot\n",
    "# encoder, and the vector assembler\n",
    "stages = indexers + [ohe, va]\n",
    "print(\"Stages:\", stages)"
   ]
  },
  {
   "cell_type": "markdown",
   "id": "7f7ddb1a-a8cc-42b0-9286-1e36eb6fcb9a",
   "metadata": {},
   "source": [
    "Great! Now let's see if that worked. Let's investigate how it transforms your dataset. Put all of the stages in a Pipeline and fit it to your data. Look at the features column. Did you obtain the number of features you expected?"
   ]
  },
  {
   "cell_type": "code",
   "execution_count": 54,
   "id": "7f8363f8-bd50-4508-98cf-fc29e7890714",
   "metadata": {},
   "outputs": [
    {
     "data": {
      "text/plain": [
       "29"
      ]
     },
     "execution_count": 54,
     "metadata": {},
     "output_type": "execute_result"
    }
   ],
   "source": [
    "# Import relevant class\n",
    "from pyspark.ml.pipeline import Pipeline\n",
    "\n",
    "# Instantiate a pipeline using stages list\n",
    "pipe = Pipeline(stages=stages)\n",
    "\n",
    "# Fit and transform the data using the pipeline, then look at\n",
    "# the size of the array in the 'features' column\n",
    "pipe.fit(df_all_binned)\\\n",
    "    .transform(df_all_binned)\\\n",
    "    .head()['features'].size"
   ]
  },
  {
   "cell_type": "markdown",
   "id": "3ddf59fe-ec68-44a5-9fcf-831764e0eb8b",
   "metadata": {},
   "source": [
    "The pipeline has produced a sparse vector with 29 features.\r\n",
    "\r\n",
    "This comes from:\r\n",
    "    \r\n",
    "* 20 numeric features\r\n",
    "* 3 one-hot encoded features with `dropLast=True`, containing\r\n",
    "  * 1 SEX feature\r\n",
    "  * 3 EDUCATION features\r\n",
    "  * 2 MARRIAGE features"
   ]
  },
  {
   "cell_type": "markdown",
   "id": "9222b2a8-4767-4e46-9e5e-ac40fcd08499",
   "metadata": {},
   "source": [
    "That looks good! Now let's go ahead and fit data to different machine learning models. To evaluate these models, you should use the `BinaryClassificationEvaluator`."
   ]
  },
  {
   "cell_type": "code",
   "execution_count": 55,
   "id": "1a80f6f0-35f4-4e89-941a-cfeef814a884",
   "metadata": {},
   "outputs": [],
   "source": [
    "from pyspark.ml.evaluation import BinaryClassificationEvaluator\n",
    "evaluator = BinaryClassificationEvaluator(\n",
    "    rawPredictionCol='prediction',\n",
    "    labelCol='default',\n",
    "    metricName='areaUnderROC'\n",
    ")"
   ]
  },
  {
   "cell_type": "code",
   "execution_count": 58,
   "id": "d632b67a-eac9-4624-aef5-a829dac287ff",
   "metadata": {},
   "outputs": [],
   "source": [
    "#Logistic Regression\n",
    "#Perform train test split\n",
    "train, test = df_all_binned.randomSplit(weights=[0.8, 0.2], seed=1)"
   ]
  },
  {
   "cell_type": "code",
   "execution_count": 57,
   "id": "f10a7bca-17e3-4e1b-b7a4-897a07e3dc65",
   "metadata": {},
   "outputs": [
    {
     "name": "stdout",
     "output_type": "stream",
     "text": [
      "ROC-AUC on train: 0.6057796783170918\n",
      "ROC-AUC on test: 0.6090136625813551\n"
     ]
    }
   ],
   "source": [
    "from pyspark.ml.classification import LogisticRegression\n",
    "\n",
    "# Train-test split\n",
    "train, test = df_all_binned.randomSplit(weights=[0.8, 0.2], seed=1)\n",
    "\n",
    "# Instantiate a logistic regression and add to stages\n",
    "lr = LogisticRegression(\n",
    "    featuresCol='features',\n",
    "    labelCol='default',\n",
    "    predictionCol='prediction',\n",
    "    standardization=True\n",
    ")\n",
    "lr_stages = stages + [lr]\n",
    "\n",
    "# Instantiate a new Pipeline with all of the stages\n",
    "lr_pipe = Pipeline(stages=lr_stages)\n",
    "\n",
    "# Fit the pipeline on the training data\n",
    "lr_pipe_fit = lr_pipe.fit(train)\n",
    "\n",
    "# Transform both train and test data using the pipeline\n",
    "lr_result_train = lr_pipe_fit.transform(train)\n",
    "lr_result_test = lr_pipe_fit.transform(test)\n",
    "\n",
    "# Use evaluator to evaluate performance\n",
    "print(\"ROC-AUC on train:\", evaluator.evaluate(lr_result_train))\n",
    "print(\"ROC-AUC on test:\", evaluator.evaluate(lr_result_test))"
   ]
  },
  {
   "cell_type": "markdown",
   "id": "b4bdac32-1490-4922-9b30-90ada69e6399",
   "metadata": {},
   "source": [
    "Looks like the defaults for `LogisticRegression` are working pretty well, since the train and test metrics are pretty similar.\n",
    "\n",
    "Still, let's try a `CrossValidator` ([documentation here](https://spark.apache.org/docs/latest/api/python/reference/api/pyspark.ml.tuning.CrossValidator.html)) + `ParamGridBuilder` ([documentation here](https://spark.apache.org/docs/latest/api/python/reference/api/pyspark.ml.tuning.ParamGridBuilder.html)) approach with a few different regularization parameters.\n",
    "\n",
    "We'll use these regularization parameters:\n",
    "\n",
    "```python\n",
    "[0.0, 0.01, 0.1, 1.0]\n",
    "```"
   ]
  },
  {
   "cell_type": "code",
   "execution_count": 59,
   "id": "52abe5ad-655e-4d22-bde3-65c0c9d944f0",
   "metadata": {},
   "outputs": [],
   "source": [
    "from pyspark.ml.tuning import ParamGridBuilder, CrossValidator\n",
    "\n",
    "# Set up param grid\n",
    "lr_params = ParamGridBuilder().addGrid(lr.regParam, [0.0, 0.01, 0.1, 1.0]).build()\n",
    "\n",
    "# Set up cross validator\n",
    "lr_cv = CrossValidator(\n",
    "    estimator=lr_pipe,\n",
    "    estimatorParamMaps=lr_params,\n",
    "    evaluator=evaluator\n",
    ")\n",
    "\n",
    "# Fit cross validator on the full dataframe\n",
    "lr_model = lr_cv.fit(df_all_binned)"
   ]
  },
  {
   "cell_type": "code",
   "execution_count": 60,
   "id": "1a400171-0b22-44ef-bd66-eab16c9c7c97",
   "metadata": {},
   "outputs": [
    {
     "data": {
      "text/plain": [
       "{Param(parent='LogisticRegression_c12dd7fcdc36', name='regParam', doc='regularization parameter (>= 0).'): 0.0}"
      ]
     },
     "execution_count": 60,
     "metadata": {},
     "output_type": "execute_result"
    }
   ],
   "source": [
    "# Best model was the first (0-th) one\n",
    "# (You could also use np.argmax to get this automatically\n",
    "# instead of manually inspecting the results)\n",
    "lr_params[0]"
   ]
  },
  {
   "cell_type": "markdown",
   "id": "786fa26d-5f1b-43cd-887e-0bc361b3d1e9",
   "metadata": {},
   "source": [
    "Now try this again with other classifiers. Try and create a function that will allow you to easily test different models with different parameters. You can find all of the available classification model options [here](https://spark.apache.org/docs/latest/api/python/reference/pyspark.ml.html#classification).\n",
    "\n",
    "This function is optional, but it should allow for your code to be far more D.R.Y. The function should return the fitted cross-validated classifier as well as print out the AUC of the best-performing model and the best parameters."
   ]
  },
  {
   "cell_type": "code",
   "execution_count": 61,
   "id": "8141c431-93de-4bc8-921c-872e37231cca",
   "metadata": {},
   "outputs": [],
   "source": [
    "import numpy as np\n",
    "\n",
    "def create_model(df, preprocessing_stages, classifier, param_grid, evaluator):\n",
    "    # Fit the cross validator model\n",
    "    stages_with_classifier = preprocessing_stages + [classifier]\n",
    "    pipe = Pipeline(stages=stages_with_classifier)\n",
    "    cv = CrossValidator(\n",
    "        estimator=pipe,\n",
    "        estimatorParamMaps=param_grid,\n",
    "        evaluator=evaluator\n",
    "    )\n",
    "    model = cv.fit(df)\n",
    "    \n",
    "    # Find and display the best classifier's metric and params\n",
    "    index_best_clf = np.argmax(model.avgMetrics)\n",
    "    best_clf_metric = model.avgMetrics[index_best_clf]\n",
    "    best_clf_params = param_grid[index_best_clf]\n",
    "    print(f\"\"\"\n",
    "Best {evaluator.getMetricName()}: {best_clf_metric}\n",
    "\n",
    "Best params: {best_clf_params}\n",
    "    \"\"\")\n",
    "    \n",
    "    # Return the model\n",
    "    return model"
   ]
  },
  {
   "cell_type": "markdown",
   "id": "789e8cb3-d5ec-4182-982b-a7367874fed2",
   "metadata": {},
   "source": [
    "Now train one other classifier that is not a `LogisticRegression`. Use a `ParamGridBuilder` to try out some relevant parameters."
   ]
  },
  {
   "cell_type": "code",
   "execution_count": 63,
   "id": "268699ce-c65f-418c-83be-5996ad955d65",
   "metadata": {},
   "outputs": [
    {
     "name": "stdout",
     "output_type": "stream",
     "text": [
      "\n",
      "Best areaUnderROC: 0.6523039861530223\n",
      "\n",
      "Best params: {Param(parent='RandomForestClassifier_b39179b6e453', name='maxDepth', doc='Maximum depth of the tree. (>= 0) E.g., depth 0 means 1 leaf node; depth 1 means 1 internal node + 2 leaf nodes.'): 10, Param(parent='RandomForestClassifier_b39179b6e453', name='numTrees', doc='Number of trees to train (>= 1).'): 100}\n",
      "    \n"
     ]
    }
   ],
   "source": [
    "# Here we're trying a random forest\n",
    "# ⏰ This cell may take a long time to run\n",
    "from pyspark.ml.classification import RandomForestClassifier\n",
    "rf = RandomForestClassifier(featuresCol='features',labelCol='default')\n",
    "rf_params = ParamGridBuilder()\\\n",
    " .addGrid(rf.maxDepth, [5,10])\\\n",
    " .addGrid(rf.numTrees, [20,100])\\\n",
    " .build()\n",
    "\n",
    "rf_model = create_model(df_all_binned, stages, rf, rf_params, evaluator)"
   ]
  },
  {
   "cell_type": "markdown",
   "id": "b8fdb1ff-fa9e-44b6-b935-91291a5cc4c6",
   "metadata": {},
   "source": [
    "And one more"
   ]
  },
  {
   "cell_type": "code",
   "execution_count": 64,
   "id": "40b461dd-923c-4ab7-bf17-6290c08b5b8e",
   "metadata": {},
   "outputs": [
    {
     "name": "stdout",
     "output_type": "stream",
     "text": [
      "\n",
      "Best areaUnderROC: 0.6605764603772106\n",
      "\n",
      "Best params: {Param(parent='GBTClassifier_2fff595f3651', name='maxDepth', doc='Maximum depth of the tree. (>= 0) E.g., depth 0 means 1 leaf node; depth 1 means 1 internal node + 2 leaf nodes.'): 5, Param(parent='GBTClassifier_2fff595f3651', name='maxIter', doc='max number of iterations (>= 0).'): 50}\n",
      "    \n"
     ]
    }
   ],
   "source": [
    "# Here we're trying a gradient-boosted trees classifier\n",
    "# ⏰ This cell may take a long time to run\n",
    "from pyspark.ml.classification import GBTClassifier\n",
    "gb = GBTClassifier(featuresCol='features',labelCol='default')\n",
    "gb_params = ParamGridBuilder()\\\n",
    "  .addGrid(gb.maxDepth,[1,5])\\\n",
    "  .addGrid(gb.maxIter,[20,50])\\\n",
    "  .build()\n",
    "\n",
    "gb_model = create_model(df_all_binned, stages, gb, gb_params, evaluator)"
   ]
  },
  {
   "cell_type": "markdown",
   "id": "37935a45-f79b-4d83-bf59-40ba0c5da38f",
   "metadata": {},
   "source": [
    " - Looking at our metrics, the gradient-boosted trees classifier \n",
    "and random forest classifier had very similar metrics, wit \r\n",
    "ROC-AUC just above 0.6 . Either would be a strong choice  f\r\n",
    "we aren't worried about computational complex.\n",
    " - The logistic regression, with ROC-AUC of 0.61, could be our backup plan if we need a less complex model model"
   ]
  },
  {
   "cell_type": "code",
   "execution_count": 65,
   "id": "968fa7de-910c-4fcd-870f-d39ad5559e0f",
   "metadata": {},
   "outputs": [],
   "source": [
    "spark.stop()"
   ]
  }
 ],
 "metadata": {
  "kernelspec": {
   "display_name": "Python (spark-env)",
   "language": "python",
   "name": "spark-env"
  },
  "language_info": {
   "codemirror_mode": {
    "name": "ipython",
    "version": 3
   },
   "file_extension": ".py",
   "mimetype": "text/x-python",
   "name": "python",
   "nbconvert_exporter": "python",
   "pygments_lexer": "ipython3",
   "version": "3.8.18"
  }
 },
 "nbformat": 4,
 "nbformat_minor": 5
}
